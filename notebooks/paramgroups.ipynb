{
 "cells": [
  {
   "cell_type": "code",
   "execution_count": 1,
   "metadata": {},
   "outputs": [
    {
     "name": "stderr",
     "output_type": "stream",
     "text": [
      "\u001b[32m\u001b[1m  Activating\u001b[22m\u001b[39m environment at `~/.julia/environments/v1.6/Project.toml`\n"
     ]
    }
   ],
   "source": [
    "]activate"
   ]
  },
  {
   "cell_type": "code",
   "execution_count": 3,
   "metadata": {},
   "outputs": [],
   "source": [
    "using FastAI\n",
    "using Flux\n",
    "using Zygote"
   ]
  },
  {
   "cell_type": "markdown",
   "metadata": {},
   "source": [
    "## `ParamGroups`"
   ]
  },
  {
   "cell_type": "code",
   "execution_count": 60,
   "metadata": {},
   "outputs": [],
   "source": [
    "struct ParamGroups\n",
    "    map::IdDict\n",
    "end\n",
    "ParamGroups() = ParamGroups(IdDict())\n",
    "Base.show(io::IO, ::ParamGroups) = print(io, \"ParamGroups(...)\")"
   ]
  },
  {
   "cell_type": "code",
   "execution_count": 61,
   "metadata": {},
   "outputs": [
    {
     "data": {
      "text/plain": [
       "getgroup (generic function with 1 method)"
      ]
     },
     "execution_count": 61,
     "metadata": {},
     "output_type": "execute_result"
    }
   ],
   "source": [
    "getgroup(pg::ParamGroups, x::AbstractArray) = get(pg.map, x, nothing)"
   ]
  },
  {
   "cell_type": "code",
   "execution_count": 62,
   "metadata": {},
   "outputs": [
    {
     "data": {
      "text/plain": [
       "assigngroups! (generic function with 1 method)"
      ]
     },
     "execution_count": 62,
     "metadata": {},
     "output_type": "execute_result"
    }
   ],
   "source": [
    "function assigngroups!(pg::ParamGroups, grouper, m)\n",
    "    for (group, m_) in group(grouper, m)\n",
    "        for p in params(m_)\n",
    "            pg.map[p] = group\n",
    "        end\n",
    "    end\n",
    "end"
   ]
  },
  {
   "cell_type": "code",
   "execution_count": 63,
   "metadata": {},
   "outputs": [
    {
     "data": {
      "text/plain": [
       "group (generic function with 1 method)"
      ]
     },
     "execution_count": 63,
     "metadata": {},
     "output_type": "execute_result"
    }
   ],
   "source": [
    "abstract type ParamGrouper end\n",
    "\n",
    "struct IndexGrouper <: ParamGrouper\n",
    "    idxs\n",
    "end\n",
    "\n",
    "group(grouper::IndexGrouper, m) = Dict(i => m[is] for (i, is) in enumerate(grouper.idxs))"
   ]
  },
  {
   "cell_type": "code",
   "execution_count": 64,
   "metadata": {},
   "outputs": [
    {
     "data": {
      "text/plain": [
       "ParamGroups"
      ]
     },
     "execution_count": 64,
     "metadata": {},
     "output_type": "execute_result"
    }
   ],
   "source": [
    "function ParamGroups(grouper::ParamGrouper, m)\n",
    "    pg = ParamGroups()\n",
    "    assigngroups!(pg, grouper, m)\n",
    "    return pg\n",
    "end"
   ]
  },
  {
   "cell_type": "markdown",
   "metadata": {},
   "source": [
    "### Example"
   ]
  },
  {
   "cell_type": "code",
   "execution_count": 84,
   "metadata": {},
   "outputs": [
    {
     "data": {
      "text/plain": [
       "Chain(Dense(3, 1), Dense(1, 3))"
      ]
     },
     "execution_count": 84,
     "metadata": {},
     "output_type": "execute_result"
    }
   ],
   "source": [
    "model = Chain(Dense(3, 5), Dense(5, 3))"
   ]
  },
  {
   "cell_type": "code",
   "execution_count": 75,
   "metadata": {},
   "outputs": [
    {
     "data": {
      "text/plain": [
       "ParamGroups(...)"
      ]
     },
     "execution_count": 75,
     "metadata": {},
     "output_type": "execute_result"
    }
   ],
   "source": [
    "pg = ParamGroups(IndexGrouper([1, 2]), model)"
   ]
  },
  {
   "cell_type": "code",
   "execution_count": 76,
   "metadata": {},
   "outputs": [
    {
     "name": "stdout",
     "output_type": "stream",
     "text": [
      "getgroup(pg, p) = 1\n",
      "getgroup(pg, p) = 1\n",
      "getgroup(pg, p) = 2\n",
      "getgroup(pg, p) = 2\n"
     ]
    }
   ],
   "source": [
    "for p in params(model)\n",
    "    @show getgroup(pg, p)\n",
    "end"
   ]
  },
  {
   "cell_type": "markdown",
   "metadata": {},
   "source": [
    "## `DiscriminativeLR`"
   ]
  },
  {
   "cell_type": "code",
   "execution_count": 95,
   "metadata": {},
   "outputs": [],
   "source": [
    "using Flux.Optimise\n",
    "import Flux.Optimise: apply!"
   ]
  },
  {
   "cell_type": "code",
   "execution_count": 136,
   "metadata": {},
   "outputs": [
    {
     "data": {
      "text/plain": [
       "DiscriminativeLR"
      ]
     },
     "execution_count": 136,
     "metadata": {},
     "output_type": "execute_result"
    }
   ],
   "source": [
    "\"\"\"\n",
    "    DiscriminativeLR(paramgroups, factors)\n",
    "\n",
    "Use different learning rates based on `paramgroups`. `factors` maps\n",
    "each group to a factor that the learning rate is multiplied by, so\n",
    "for a parameter `x` the factor is `get(factors, getgroup(paramgroups, x), 1)`.\n",
    "\n",
    "See [`ParamGroups`](#).\n",
    "\n",
    "\"\"\"\n",
    "struct DiscriminativeLR \n",
    "    pg::ParamGroups\n",
    "    factors::Dict\n",
    "end"
   ]
  },
  {
   "cell_type": "code",
   "execution_count": 130,
   "metadata": {},
   "outputs": [
    {
     "data": {
      "text/plain": [
       "apply! (generic function with 20 methods)"
      ]
     },
     "execution_count": 130,
     "metadata": {},
     "output_type": "execute_result"
    }
   ],
   "source": [
    "function apply!(o::DiscriminativeLR, x, Δ::AbstractArray{T}) where T\n",
    "    factor = convert(T, get(o.factors, getgroup(pg, x), one(T)))\n",
    "    if factor == one(T)\n",
    "        return Δ\n",
    "    else\n",
    "        @. Δ *= factor\n",
    "    end\n",
    "end"
   ]
  },
  {
   "cell_type": "markdown",
   "metadata": {},
   "source": [
    "## Examples"
   ]
  },
  {
   "cell_type": "code",
   "execution_count": 138,
   "metadata": {},
   "outputs": [
    {
     "data": {
      "text/plain": [
       "ParamGroups(...)"
      ]
     },
     "execution_count": 138,
     "metadata": {},
     "output_type": "execute_result"
    }
   ],
   "source": [
    "model = Chain(Dense(3, 5), Dense(5, 3))\n",
    "pg = ParamGroups(IndexGrouper([1, 2]), model)"
   ]
  },
  {
   "cell_type": "markdown",
   "metadata": {},
   "source": [
    "We map group 1 to a learning rate multiplier of `0`, so it is not trained, and group 2 to a multiplier of `1`, so it is trained regularly. With Flux's composable `Optimiser`, we can easily use this together with regular gradient descent. "
   ]
  },
  {
   "cell_type": "code",
   "execution_count": 139,
   "metadata": {},
   "outputs": [
    {
     "data": {
      "text/plain": [
       "Optimiser(Any[DiscriminativeLR(ParamGroups(...), Dict(2 => 1.0, 1 => 0.0)), Descent(0.1)])"
      ]
     },
     "execution_count": 139,
     "metadata": {},
     "output_type": "execute_result"
    }
   ],
   "source": [
    "o = Optimiser(\n",
    "    DiscriminativeLR(pg, Dict(1 => 0., 2 => 1.)),\n",
    "    Descent(0.1)\n",
    ")"
   ]
  },
  {
   "cell_type": "code",
   "execution_count": 140,
   "metadata": {},
   "outputs": [
    {
     "data": {
      "text/plain": [
       "Grads(...)"
      ]
     },
     "execution_count": 140,
     "metadata": {},
     "output_type": "execute_result"
    }
   ],
   "source": [
    "xs, ys = rand(3, 1), rand(3, 1)\n",
    "lossfn(xs, ys) = Flux.mse(model(x), ys)\n",
    "ps = params(model)\n",
    "gs = gradient(() -> lossfn(xs, ys), ps)"
   ]
  },
  {
   "cell_type": "code",
   "execution_count": 141,
   "metadata": {},
   "outputs": [
    {
     "name": "stdout",
     "output_type": "stream",
     "text": [
      "p[1] = 0.078491025f0\n",
      "p[1] = 0.0f0\n",
      "p[1] = 0.17071337f0\n",
      "p[1] = 0.0f0\n"
     ]
    }
   ],
   "source": [
    "for p in ps\n",
    "    @show p[1]\n",
    "end"
   ]
  },
  {
   "cell_type": "code",
   "execution_count": 142,
   "metadata": {},
   "outputs": [],
   "source": [
    "Optimise.update!(o, ps, gs)"
   ]
  },
  {
   "cell_type": "code",
   "execution_count": 143,
   "metadata": {},
   "outputs": [
    {
     "name": "stdout",
     "output_type": "stream",
     "text": [
      "p[1] = 0.078491025f0\n",
      "p[1] = 0.0f0\n",
      "p[1] = 0.16609591f0\n",
      "p[1] = 0.030807652f0\n"
     ]
    }
   ],
   "source": [
    "for p in ps\n",
    "    @show p[1]\n",
    "end"
   ]
  },
  {
   "cell_type": "markdown",
   "metadata": {},
   "source": [
    "As you can see, only the parameters in group 2 were updated."
   ]
  }
 ],
 "metadata": {
  "kernelspec": {
   "display_name": "Julia 1.6.0",
   "language": "julia",
   "name": "julia-1.6"
  },
  "language_info": {
   "file_extension": ".jl",
   "mimetype": "application/julia",
   "name": "julia",
   "version": "1.6.0"
  }
 },
 "nbformat": 4,
 "nbformat_minor": 4
}
